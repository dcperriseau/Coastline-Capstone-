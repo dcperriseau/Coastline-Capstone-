{
 "cells": [
  {
   "cell_type": "markdown",
   "metadata": {},
   "source": [
    "# Schematics"
   ]
  },
  {
   "cell_type": "markdown",
   "metadata": {},
   "source": [
    "<font size=\"4\">These are general overviews of the processes we use to simulate erosion and to determine the most vulnerable areas of the coastline. We use a 2D array to represent plots of land.</font>"
   ]
  },
  {
   "cell_type": "markdown",
   "metadata": {},
   "source": [
    "<img src=\"files/initial_table.jpg\">"
   ]
  },
  {
   "cell_type": "markdown",
   "metadata": {},
   "source": [
    "<font size=\"4\">To simulate **erosion**, we do the following:\n",
    "* Iterate down each column.\n",
    "* If the value is greater than 0...\n",
    "    * Check each of its neighboring coasts.\n",
    "    * Subtract some constant $a$ if there is water in the row above the cell.\n",
    "    * Subtract some smaller constant $b$ for each neighboring column containing water.\n",
    "    \n",
    "Here is how one timestep would look on this table, setting $a = 0.2$ and $b = 0.1$."
   ]
  },
  {
   "cell_type": "markdown",
   "metadata": {},
   "source": [
    "<img src=\"files/erosion_timestep_img.jpg\">"
   ]
  },
  {
   "cell_type": "markdown",
   "metadata": {},
   "source": [
    "<font size=\"4\"> Note that our erosion constants $a$ and $b$ are reduced if there is a tree in neighboring cell.</font>"
   ]
  },
  {
   "cell_type": "markdown",
   "metadata": {},
   "source": [
    "<font size=\"4\">For **tree placement**, we do the following:\n",
    "* Loop over each cell in the array.\n",
    "* If the value = 0...\n",
    "    * Check each of its neighboring coasts.\n",
    "    * If **all four** coasts contain land, place a tree.\n",
    "    * Subtract 1 from the number of remaining trees.\n",
    "* Loop over each cell in the array again, adjusting our parameters.\n",
    "    * If **three** coasts contain land, place a tree.\n",
    "    * Subtract 1 from the number of remaining trees.\n",
    "* Loop again...\n",
    "    * If **two** coasts contain land, place a tree.\n",
    "    * Subtract 1 from the number of remaining trees.\n",
    "* Loop for the last time!\n",
    "    * If **any** coast contains land, place a tree.\n",
    "    * Subtract 1 from the number of remaining trees.\n",
    "    \n",
    "Here is where our algorithm would plant three trees on this coastline array."
   ]
  },
  {
   "cell_type": "markdown",
   "metadata": {},
   "source": [
    "<img src=\"files/tree_placement_img.jpg\">"
   ]
  }
 ],
 "metadata": {
  "kernelspec": {
   "display_name": "Python 3",
   "language": "python",
   "name": "python3"
  },
  "language_info": {
   "codemirror_mode": {
    "name": "ipython",
    "version": 3
   },
   "file_extension": ".py",
   "mimetype": "text/x-python",
   "name": "python",
   "nbconvert_exporter": "python",
   "pygments_lexer": "ipython3",
   "version": "3.8.3"
  }
 },
 "nbformat": 4,
 "nbformat_minor": 4
}
