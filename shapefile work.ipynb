{
 "cells": [
  {
   "cell_type": "markdown",
   "metadata": {},
   "source": [
    "# Shapefile Integration"
   ]
  },
  {
   "cell_type": "markdown",
   "metadata": {},
   "source": [
    "Now, we can try to make sense of some shapefiles and get them into a format where we can apply our algorithm. First, let's install a library that allows us to work easily with shapefiles! I chose `pyshp`."
   ]
  },
  {
   "cell_type": "code",
   "execution_count": 33,
   "metadata": {
    "scrolled": true
   },
   "outputs": [
    {
     "name": "stdout",
     "output_type": "stream",
     "text": [
      "Requirement already satisfied: pyshp in c:\\users\\mark\\anaconda3\\lib\\site-packages (2.1.3)\n"
     ]
    }
   ],
   "source": [
    "!pip install pyshp"
   ]
  },
  {
   "cell_type": "code",
   "execution_count": 1,
   "metadata": {},
   "outputs": [],
   "source": [
    "import shapefile\n",
    "import geopandas as gpd\n",
    "import os"
   ]
  },
  {
   "cell_type": "markdown",
   "metadata": {},
   "source": [
    "Now we can load in our shapefile and set up our reader."
   ]
  },
  {
   "cell_type": "code",
   "execution_count": 2,
   "metadata": {},
   "outputs": [],
   "source": [
    "myshp = open(\"C:\\\\Users\\\\Mark\\\\Desktop\\\\coastline-capstone\\\\LA_shorelines.shp\", \"rb\")\n",
    "mydbf = open(\"C:\\\\Users\\\\Mark\\\\Desktop\\\\coastline-capstone\\\\LA_shorelines.dbf\", \"rb\")\n",
    "\n",
    "r = shapefile.Reader(shp=myshp, dbf=mydbf)\n",
    "shapes = r.shapes()"
   ]
  },
  {
   "cell_type": "markdown",
   "metadata": {},
   "source": [
    "Just to get a sense of what this shapefile looks like, we can plot each shape."
   ]
  },
  {
   "cell_type": "code",
   "execution_count": 3,
   "metadata": {},
   "outputs": [
    {
     "data": {
      "image/png": "[encoded data removed]",
      "text/plain": [
       "<Figure size 360x360 with 1 Axes>"
      ]
     },
     "metadata": {
      "needs_background": "light"
     },
     "output_type": "display_data"
    }
   ],
   "source": [
    "import matplotlib.pyplot as plt\n",
    "\n",
    "fig, ax = plt.subplots(1,figsize=(5,5))\n",
    "x_curves = []\n",
    "y_curves = []\n",
    "for shape in r.shapeRecords():\n",
    "    x = [i[0] for i in shape.shape.points[:]]\n",
    "    x_curves.append(x[0])\n",
    "    x_curves.append(x[1])\n",
    "    y = [i[1] for i in shape.shape.points[:]]\n",
    "    y_curves.append(y[0])\n",
    "    y_curves.append(y[1])\n",
    "    ax.plot(x,y, 'k', linewidth='0.5')"
   ]
  },
  {
   "cell_type": "code",
   "execution_count": 4,
   "metadata": {},
   "outputs": [],
   "source": [
    "x_offset = min(x_curves)\n",
    "y_offset = min(y_curves)"
   ]
  },
  {
   "cell_type": "markdown",
   "metadata": {},
   "source": [
    "Now, we can do some transformations on the coordinates to make them more usable for our purposes. Since the coordinates have a lot of decimals and our 2D array approach requires integer coordinates, we can multiply each coordinate by some amount and round off the excess."
   ]
  },
  {
   "cell_type": "code",
   "execution_count": 5,
   "metadata": {},
   "outputs": [],
   "source": [
    "shape_coords = []\n",
    "for shape in shapes:\n",
    "    shape_coords.append(shape.bbox)"
   ]
  },
  {
   "cell_type": "code",
   "execution_count": 6,
   "metadata": {},
   "outputs": [],
   "source": [
    "rounded_coords = []\n",
    "for bbox in shape_coords:\n",
    "    bbox = list(map(lambda x: round(x*1000), bbox))\n",
    "    rounded_coords.append(bbox)"
   ]
  },
  {
   "cell_type": "markdown",
   "metadata": {},
   "source": [
    "Each shape is given as a boundary box - to simplify this, we can individually average the x values and the y values of each boundary box. Now that we have our integer coordinates, we can start creating our 2D array from this shapefile. First, let's store the x and y values separately - it will be useful!"
   ]
  },
  {
   "cell_type": "code",
   "execution_count": 7,
   "metadata": {},
   "outputs": [],
   "source": [
    "avg_x_coords = []\n",
    "avg_y_coords = []\n",
    "avg_coords = []\n",
    "for point in rounded_coords:\n",
    "    x = (point[0]+point[2])//2\n",
    "    y = (point[1]+point[3])//2\n",
    "    avg_x_coords.append(x)\n",
    "    avg_y_coords.append(y)\n",
    "    avg_coords.append([x,y])"
   ]
  },
  {
   "cell_type": "markdown",
   "metadata": {},
   "source": [
    "We can now easily discern the necessary dimensions for our 2D array."
   ]
  },
  {
   "cell_type": "code",
   "execution_count": 8,
   "metadata": {},
   "outputs": [],
   "source": [
    "x_range = max(avg_x_coords) - min(avg_x_coords)\n",
    "y_range = max(avg_y_coords) - min(avg_y_coords)"
   ]
  },
  {
   "cell_type": "markdown",
   "metadata": {},
   "source": [
    "Making the array itself..."
   ]
  },
  {
   "cell_type": "code",
   "execution_count": 9,
   "metadata": {},
   "outputs": [],
   "source": [
    "coast = [[0 for i in range(y_range+1)] for j in range(x_range+1)]"
   ]
  },
  {
   "cell_type": "markdown",
   "metadata": {},
   "source": [
    "Next, we can subtract from each coordinate to equalize the bottom-right corner of our plot at the origin."
   ]
  },
  {
   "cell_type": "code",
   "execution_count": 10,
   "metadata": {},
   "outputs": [],
   "source": [
    "for point in avg_coords:\n",
    "    point[0] -= min(avg_x_coords)\n",
    "    point[1] -= min(avg_y_coords)"
   ]
  },
  {
   "cell_type": "markdown",
   "metadata": {},
   "source": [
    "Finally, we can populate our 2D array with land data."
   ]
  },
  {
   "cell_type": "code",
   "execution_count": 11,
   "metadata": {},
   "outputs": [],
   "source": [
    "for point in avg_coords:\n",
    "    coast[point[0]][point[1]] = 1"
   ]
  },
  {
   "cell_type": "markdown",
   "metadata": {},
   "source": [
    "Below are constants used to transform the plot to the same proportions as our coastline plot."
   ]
  },
  {
   "cell_type": "code",
   "execution_count": 12,
   "metadata": {},
   "outputs": [],
   "source": [
    "xq = max(x_curves)-x_offset\n",
    "yq = max(y_curves)-y_offset"
   ]
  },
  {
   "cell_type": "code",
   "execution_count": 13,
   "metadata": {},
   "outputs": [],
   "source": [
    "coast = [[0 for i in range(y_range+1)] for j in range(x_range+1)]\n",
    "for point in avg_coords:\n",
    "    coast[point[0]][point[1]] = 1"
   ]
  },
  {
   "cell_type": "markdown",
   "metadata": {},
   "source": [
    "Now let's plant some trees! We can introduce our functions from the `erosion_model` notebook. (Giant cell, but nothing new.)"
   ]
  },
  {
   "cell_type": "code",
   "execution_count": 14,
   "metadata": {},
   "outputs": [],
   "source": [
    "import numpy as np\n",
    "\n",
    "def timestep(coast):\n",
    "    for row_idx in range(len(coast)): # loops to check every element\n",
    "        for col_idx in range(len(coast[row_idx])): # in the 2d array.\n",
    "            if coast[row_idx][col_idx] > 0: # if there is land, begin the coast checks\n",
    "                # the coast checks are partitioned in this way to prevent index errors!\n",
    "                # the top row checks only the left and right points\n",
    "                if row_idx != 0:\n",
    "                    if coast[row_idx-1][col_idx] <= 0:\n",
    "                        if treemap[row_idx-1][col_idx]:\n",
    "                            coast[row_idx][col_idx] -= 0.01\n",
    "                        else:\n",
    "                            coast[row_idx][col_idx] -= 0.16\n",
    "                # the leftmost column checks only the right and front points\n",
    "                if col_idx != 0:\n",
    "                    if coast[row_idx][col_idx-1] <= 0:\n",
    "                        if treemap[row_idx][col_idx-1]:\n",
    "                            coast[row_idx][col_idx] -= 0.01\n",
    "                        else:\n",
    "                            coast[row_idx][col_idx] -= 0.06\n",
    "                # the rightmost column checks only the left and front points\n",
    "                if col_idx != len(coast[0])-1:\n",
    "                    if coast[row_idx][col_idx+1] <= 0:\n",
    "                        if treemap[row_idx][col_idx+1]:\n",
    "                            coast[row_idx][col_idx] -= 0.01\n",
    "                        else:\n",
    "                            coast[row_idx][col_idx] -= 0.06\n",
    "                \n",
    "                if coast[row_idx][col_idx] < 0:  # fixes over-subtraction\n",
    "                    coast[row_idx][col_idx] = 0\n",
    "                    \n",
    "def graphical_timestep(coast):\n",
    "    timestep(coast)\n",
    "    for row in range(len(coast)):\n",
    "        for col in range(len(coast[0])):\n",
    "            if coast[row][col] > 0:\n",
    "                points[(row,col)].set_radius(5*coast[row][col]*0.8)\n",
    "            \n",
    "treemap = np.zeros((len(coast), len(coast[0])), dtype=bool)\n",
    "\n",
    "def num_faces(coast, row, col):\n",
    "    faces = 0\n",
    "    if coast[row][col] == 0:\n",
    "        if row-1 >= 0:\n",
    "            if coast[row-1][col] > 0:\n",
    "                faces += 1\n",
    "        if row+1 <= len(coast)-1:\n",
    "            if coast[row+1][col] > 0:\n",
    "                faces += 1\n",
    "        if col-1 >= 0:\n",
    "            if coast[row][col-1] > 0:\n",
    "                faces += 1\n",
    "        if col+1 <= len(coast[0])-1:\n",
    "            if coast[row][col+1] > 0:\n",
    "                faces += 1\n",
    "    return faces\n",
    "\n",
    "def place_trees(coast, treemap, n):\n",
    "    trees_to_place = n\n",
    "    \n",
    "    # first, check for four open faces (only possible with a mini lake, but still)\n",
    "    for row_idx in range(len(coast)): # loops to check every element\n",
    "        for col_idx in range(len(coast[row_idx])): # in the 2d array.\n",
    "            if num_faces(coast,row_idx,col_idx) == 4:\n",
    "                treemap[row_idx][col_idx] = True\n",
    "                trees_to_place -= 1\n",
    "                # also, we need to ensure we don't overplant.\n",
    "                # check if we have any trees left after every planting -\n",
    "                # if not, break immediately.\n",
    "                if trees_to_place == 0:\n",
    "                    return\n",
    "    \n",
    "    # next, check for three open faces.\n",
    "    for row_idx in range(len(coast)): # loops to check every element\n",
    "        for col_idx in range(len(coast[row_idx])): # in the 2d array.\n",
    "            if num_faces(coast,row_idx,col_idx) == 3:\n",
    "                treemap[row_idx][col_idx] = True\n",
    "                trees_to_place -= 1\n",
    "                if trees_to_place == 0:\n",
    "                    return\n",
    "    \n",
    "    # now two open faces...\n",
    "    for row_idx in range(len(coast)): # loops to check every element\n",
    "        for col_idx in range(len(coast[row_idx])): # in the 2d array.\n",
    "            if num_faces(coast,row_idx,col_idx) == 2:\n",
    "                treemap[row_idx][col_idx] = True\n",
    "                trees_to_place -= 1\n",
    "                if trees_to_place == 0:\n",
    "                    return\n",
    "                \n",
    "    # and one open face.\n",
    "    for row_idx in range(len(coast)): # loops to check every element\n",
    "        for col_idx in range(len(coast[row_idx])): # in the 2d array.\n",
    "            if num_faces(coast,row_idx,col_idx) == 1:\n",
    "                treemap[row_idx][col_idx] = True\n",
    "                trees_to_place -= 1\n",
    "                if trees_to_place == 0:\n",
    "                    return"
   ]
  },
  {
   "cell_type": "markdown",
   "metadata": {},
   "source": [
    "# Running the Tree-Planting Algorithm"
   ]
  },
  {
   "cell_type": "markdown",
   "metadata": {},
   "source": [
    "Let's start with 200 trees."
   ]
  },
  {
   "cell_type": "code",
   "execution_count": 17,
   "metadata": {},
   "outputs": [],
   "source": [
    "%matplotlib inline\n",
    "import matplotlib.pyplot as plt\n",
    "import matplotlib\n",
    "import matplotlib.patches as mpatches"
   ]
  },
  {
   "cell_type": "code",
   "execution_count": 18,
   "metadata": {},
   "outputs": [],
   "source": [
    "coast = [[0 for i in range(y_range+1)] for j in range(x_range+1)]\n",
    "for point in avg_coords:\n",
    "    coast[point[0]][point[1]] = 1\n",
    "treemap = np.zeros((len(coast), len(coast[0])), dtype=bool)\n",
    "    \n",
    "place_trees(coast,treemap,200)"
   ]
  },
  {
   "cell_type": "code",
   "execution_count": 19,
   "metadata": {},
   "outputs": [
    {
     "data": {
      "text/plain": [
       "(-20.0, 1007.0)"
      ]
     },
     "execution_count": 19,
     "metadata": {},
     "output_type": "execute_result"
    },
    {
     "data": {
      "image/png": "[encoded data removed]",
      "text/plain": [
       "<Figure size 720x720 with 1 Axes>"
      ]
     },
     "metadata": {
      "needs_background": "light"
     },
     "output_type": "display_data"
    }
   ],
   "source": [
    "fig, ax = plt.subplots(1,figsize=(10,10))\n",
    "points = {}\n",
    "            \n",
    "ax.set_facecolor('lightcyan')\n",
    "            \n",
    "for row in range(len(coast)):\n",
    "    for col in range(len(coast[0])):\n",
    "        if coast[row][col] == 1:\n",
    "            p = mpatches.Circle((row, col), coast[row][col]*5, color=\"tan\") # key = coords, val = patch object\n",
    "            points[(row,col)] = p\n",
    "            ax.add_patch(p)\n",
    "\n",
    "for shape in r.shapeRecords():\n",
    "    x = [(i[0]-x_offset)*(x_range/xq) for i in shape.shape.points[:]]\n",
    "    y = [(i[1]-y_offset)*(y_range/yq) for i in shape.shape.points[:]]\n",
    "    ax.plot(x,y, 'k', linewidth='0.35', alpha=0.3)\n",
    "\n",
    "for row in range(len(coast)):\n",
    "    for col in range(len(coast[0])):         \n",
    "        if treemap[row][col]:\n",
    "            t = mpatches.Circle((row, col), 2.5, color=\"lime\")\n",
    "            ax.add_patch(t)\n",
    "            \n",
    "plt.title('Algorithmic Placement of Trees in Southern Louisiana', fontsize=\"20\")\n",
    "\n",
    "plt.xlim([-20,x_range])\n",
    "plt.ylim([-20,y_range])"
   ]
  },
  {
   "cell_type": "markdown",
   "metadata": {},
   "source": [
    "The algorithm seems to work quite nicely!"
   ]
  },
  {
   "cell_type": "markdown",
   "metadata": {},
   "source": [
    "# Measuring Efficacy"
   ]
  },
  {
   "cell_type": "markdown",
   "metadata": {},
   "source": [
    "We can add a function to quickly perform multiple timesteps in order to streamline area comparisons."
   ]
  },
  {
   "cell_type": "code",
   "execution_count": 20,
   "metadata": {},
   "outputs": [],
   "source": [
    "def multi_step(coast, area_array, n):\n",
    "    for _ in range(n):\n",
    "        timestep(coast)\n",
    "        area_array.append(np.sum(coast))"
   ]
  },
  {
   "cell_type": "markdown",
   "metadata": {},
   "source": [
    "Just to see what sort of difference this placement makes, we can run a treeless simulation. Resetting the coast and tree arrays to their initial states:"
   ]
  },
  {
   "cell_type": "code",
   "execution_count": 21,
   "metadata": {},
   "outputs": [],
   "source": [
    "coast = [[0 for i in range(y_range+1)] for j in range(x_range+1)]\n",
    "for point in avg_coords:\n",
    "    coast[point[0]][point[1]] = 1\n",
    "treemap = np.zeros((len(coast), len(coast[0])), dtype=bool)"
   ]
  },
  {
   "cell_type": "markdown",
   "metadata": {},
   "source": [
    "Now, we can take a few timesteps in each simulation and tally the area as it decreases."
   ]
  },
  {
   "cell_type": "code",
   "execution_count": 22,
   "metadata": {},
   "outputs": [],
   "source": [
    "notree_area = [np.sum(coast)]\n",
    "area_prog = [np.sum(coast)]"
   ]
  },
  {
   "cell_type": "code",
   "execution_count": 23,
   "metadata": {},
   "outputs": [
    {
     "data": {
      "text/plain": [
       "[568,\n",
       " 416.3200000000006,\n",
       " 264.6399999999994,\n",
       " 112.9599999999998,\n",
       " 18.279999999999987,\n",
       " 6.299999999999993]"
      ]
     },
     "execution_count": 23,
     "metadata": {},
     "output_type": "execute_result"
    }
   ],
   "source": [
    "multi_step(coast, notree_area, 5)\n",
    "notree_area"
   ]
  },
  {
   "cell_type": "code",
   "execution_count": 24,
   "metadata": {},
   "outputs": [],
   "source": [
    "coast = [[0 for i in range(y_range+1)] for j in range(x_range+1)]\n",
    "for point in avg_coords:\n",
    "    coast[point[0]][point[1]] = 1"
   ]
  },
  {
   "cell_type": "code",
   "execution_count": null,
   "metadata": {},
   "outputs": [],
   "source": [
    "place_trees(coast,treemap,200)\n",
    "multi_step(coast,area_prog,5)\n",
    "area_prog"
   ]
  },
  {
   "cell_type": "markdown",
   "metadata": {},
   "source": [
    "### In our simulation, the placement of trees reduces coastal erosion nearly tenfold."
   ]
  },
  {
   "cell_type": "code",
   "execution_count": null,
   "metadata": {},
   "outputs": [],
   "source": [
    "plt.figure()\n",
    "plt.plot(area_prog)\n",
    "plt.plot(notree_area)\n",
    "plt.title(\"Area Retention With and Without Tree Placement\", fontsize=15)\n",
    "plt.ylabel(\"Area (sq. units)\")\n",
    "plt.xlabel(\"Timestep number\")"
   ]
  },
  {
   "cell_type": "markdown",
   "metadata": {},
   "source": [
    "# Additional Plots in Other Areas"
   ]
  },
  {
   "cell_type": "markdown",
   "metadata": {},
   "source": [
    "This process will produce a simulation for any compatible shapefile. Below are a few others in areas of Louisiana such as Houma and the greater Grand Isle area. (This gigantic cell simply reruns the setup functions)"
   ]
  },
  {
   "cell_type": "code",
   "execution_count": null,
   "metadata": {},
   "outputs": [],
   "source": [
    "newshp = open(\"C:\\\\Users\\\\Mark\\\\Desktop\\\\coastline-capstone\\\\Houma Shapefile\\\\HoumaShapfile.shp\", \"rb\")\n",
    "newdbf = open(\"C:\\\\Users\\\\Mark\\\\Desktop\\\\coastline-capstone\\\\Houma Shapefile\\\\HoumaShapfile.dbf\", \"rb\")\n",
    "\n",
    "r = shapefile.Reader(shp=newshp, dbf=newdbf)\n",
    "shapes = r.shapes()\n",
    "\n",
    "x_curves = []\n",
    "y_curves = []\n",
    "for shape in r.shapeRecords():\n",
    "    x = [i[0] for i in shape.shape.points[:]]\n",
    "    x_curves.append(x[0])\n",
    "    x_curves.append(x[1])\n",
    "    y = [i[1] for i in shape.shape.points[:]]\n",
    "    y_curves.append(y[0])\n",
    "    y_curves.append(y[1])\n",
    "\n",
    "x_offset = min(x_curves)\n",
    "y_offset = min(y_curves)\n",
    "\n",
    "shape_coords = []\n",
    "for shape in shapes:\n",
    "    shape_coords.append(shape.bbox)\n",
    "\n",
    "rounded_coords = []\n",
    "for bbox in shape_coords:\n",
    "    bbox = list(map(lambda x: round(x*1000), bbox))\n",
    "    rounded_coords.append(bbox)\n",
    "\n",
    "avg_x_coords = []\n",
    "avg_y_coords = []\n",
    "avg_coords = []\n",
    "\n",
    "for point in rounded_coords:\n",
    "    x = (point[0]+point[2])//2\n",
    "    y = (point[1]+point[3])//2\n",
    "    avg_x_coords.append(x)\n",
    "    avg_y_coords.append(y)\n",
    "    avg_coords.append([x,y])\n",
    "\n",
    "x_range = max(avg_x_coords) - min(avg_x_coords)\n",
    "y_range = max(avg_y_coords) - min(avg_y_coords)\n",
    "\n",
    "for point in avg_coords:\n",
    "    point[0] -= min(avg_x_coords)\n",
    "    point[1] -= min(avg_y_coords)\n",
    "\n",
    "coast = [[0 for i in range(y_range+1)] for j in range(x_range+1)]\n",
    "\n",
    "for point in avg_coords:\n",
    "    coast[point[0]][point[1]] = 1\n",
    "\n",
    "xq = max(x_curves)-x_offset\n",
    "yq = max(y_curves)-y_offset\n",
    "\n",
    "\n",
    "treemap = np.zeros((len(coast), len(coast[0])), dtype=bool)\n",
    "place_trees(coast,treemap,1000)\n",
    "\n",
    "fig, ax = plt.subplots(1,figsize=(10,10))\n",
    "points = {} \n",
    "            \n",
    "ax.set_facecolor('lightcyan')\n",
    "            \n",
    "for row in range(len(coast)):\n",
    "    for col in range(len(coast[0])):\n",
    "        if coast[row][col] == 1:\n",
    "            p = mpatches.Circle((row, col), coast[row][col]*5, color=\"tan\") # key = coords, val = patch object\n",
    "            points[(row,col)] = p\n",
    "            ax.add_patch(p)\n",
    "\n",
    "for shape in r.shapeRecords():\n",
    "    x = [(i[0]-x_offset)*(x_range/xq) for i in shape.shape.points[:]]\n",
    "    y = [(i[1]-y_offset)*(y_range/yq) for i in shape.shape.points[:]]\n",
    "    ax.plot(x,y, 'k', linewidth='0.35', alpha=0.3)\n",
    "\n",
    "for row in range(len(coast)):\n",
    "    for col in range(len(coast[0])):         \n",
    "        if treemap[row][col]:\n",
    "            t = mpatches.Circle((row, col), 2.5, color=\"lime\")\n",
    "            ax.add_patch(t)\n",
    "            \n",
    "plt.title('Algorithmic Placement of 1000 Trees in Houma, LA', fontsize='23')\n",
    "\n",
    "plt.xlim([-20,x_range])\n",
    "plt.ylim([-20,y_range])"
   ]
  },
  {
   "cell_type": "code",
   "execution_count": null,
   "metadata": {},
   "outputs": [],
   "source": [
    "newshp = open(\"C:\\\\Users\\\\Mark\\\\Desktop\\\\coastline-capstone\\\\SouthernLouisiana(GrandIsle)FilteredShapfile.shp\", \"rb\")\n",
    "newdbf = open(\"C:\\\\Users\\\\Mark\\\\Desktop\\\\coastline-capstone\\\\SouthernLouisiana(GrandIsle)FilteredShapfile.dbf\", \"rb\")\n",
    "\n",
    "r = shapefile.Reader(shp=newshp, dbf=newdbf)\n",
    "shapes = r.shapes()\n",
    "\n",
    "x_curves = []\n",
    "y_curves = []\n",
    "for shape in r.shapeRecords():\n",
    "    x = [i[0] for i in shape.shape.points[:]]\n",
    "    x_curves.append(x[0])\n",
    "    x_curves.append(x[1])\n",
    "    y = [i[1] for i in shape.shape.points[:]]\n",
    "    y_curves.append(y[0])\n",
    "    y_curves.append(y[1])\n",
    "\n",
    "x_offset = min(x_curves)\n",
    "y_offset = min(y_curves)\n",
    "\n",
    "shape_coords = []\n",
    "for shape in shapes:\n",
    "    shape_coords.append(shape.bbox)\n",
    "\n",
    "rounded_coords = []\n",
    "for bbox in shape_coords:\n",
    "    bbox = list(map(lambda x: round(x*1000), bbox))\n",
    "    rounded_coords.append(bbox)\n",
    "\n",
    "avg_x_coords = []\n",
    "avg_y_coords = []\n",
    "avg_coords = []\n",
    "\n",
    "for point in rounded_coords:\n",
    "    x = (point[0]+point[2])//2\n",
    "    y = (point[1]+point[3])//2\n",
    "    avg_x_coords.append(x)\n",
    "    avg_y_coords.append(y)\n",
    "    avg_coords.append([x,y])\n",
    "\n",
    "x_range = max(avg_x_coords) - min(avg_x_coords)\n",
    "y_range = max(avg_y_coords) - min(avg_y_coords)\n",
    "\n",
    "for point in avg_coords:\n",
    "    point[0] -= min(avg_x_coords)\n",
    "    point[1] -= min(avg_y_coords)\n",
    "\n",
    "coast = [[0 for i in range(y_range+1)] for j in range(x_range+1)]\n",
    "\n",
    "for point in avg_coords:\n",
    "    coast[point[0]][point[1]] = 1\n",
    "\n",
    "xq = max(x_curves)-x_offset\n",
    "yq = max(y_curves)-y_offset\n",
    "\n",
    "\n",
    "treemap = np.zeros((len(coast), len(coast[0])), dtype=bool)\n",
    "place_trees(coast,treemap,1000)\n",
    "\n",
    "fig, ax = plt.subplots(1,figsize=(10,10))\n",
    "points = {} \n",
    "            \n",
    "ax.set_facecolor('lightcyan')\n",
    "            \n",
    "for row in range(len(coast)):\n",
    "    for col in range(len(coast[0])):\n",
    "        if coast[row][col] == 1:\n",
    "            p = mpatches.Circle((row, col), coast[row][col]*5, color=\"tan\") # key = coords, val = patch object\n",
    "            points[(row,col)] = p\n",
    "            ax.add_patch(p)\n",
    "\n",
    "for shape in r.shapeRecords():\n",
    "    x = [(i[0]-x_offset)*(x_range/xq) for i in shape.shape.points[:]]\n",
    "    y = [(i[1]-y_offset)*(y_range/yq) for i in shape.shape.points[:]]\n",
    "    ax.plot(x,y, 'k', linewidth='0.35', alpha=0.3)\n",
    "\n",
    "for row in range(len(coast)):\n",
    "    for col in range(len(coast[0])):         \n",
    "        if treemap[row][col]:\n",
    "            t = mpatches.Circle((row, col), 2.5, color=\"lime\")\n",
    "            ax.add_patch(t)\n",
    "            \n",
    "plt.title('Algorithmic Placement of 1000 Trees in Greater Grand Isle', fontsize=23)\n",
    "\n",
    "plt.xlim([-20,x_range])\n",
    "plt.ylim([-20,y_range])"
   ]
  },
  {
   "cell_type": "code",
   "execution_count": null,
   "metadata": {},
   "outputs": [],
   "source": []
  },
  {
   "cell_type": "code",
   "execution_count": null,
   "metadata": {},
   "outputs": [],
   "source": []
  },
  {
   "cell_type": "code",
   "execution_count": null,
   "metadata": {},
   "outputs": [],
   "source": []
  }
 ],
 "metadata": {
  "kernelspec": {
   "display_name": "Python 3",
   "language": "python",
   "name": "python3"
  },
  "language_info": {
   "codemirror_mode": {
    "name": "ipython",
    "version": 3
   },
   "file_extension": ".py",
   "mimetype": "text/x-python",
   "name": "python",
   "nbconvert_exporter": "python",
   "pygments_lexer": "ipython3",
   "version": "3.8.3"
  }
 },
 "nbformat": 4,
 "nbformat_minor": 4
}
